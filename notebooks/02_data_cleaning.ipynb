{
 "cells": [
  {
   "cell_type": "markdown",
   "id": "11b65de6",
   "metadata": {},
   "source": [
    "## Data Cleaning"
   ]
  },
  {
   "cell_type": "code",
   "execution_count": 1,
   "id": "8f752d56",
   "metadata": {},
   "outputs": [],
   "source": [
    "import pandas as pd"
   ]
  },
  {
   "cell_type": "code",
   "execution_count": 2,
   "id": "69fb2e88",
   "metadata": {},
   "outputs": [],
   "source": [
    "df = pd.read_csv('../data/original/data.csv')"
   ]
  },
  {
   "cell_type": "code",
   "execution_count": 3,
   "id": "30e1fb1a",
   "metadata": {},
   "outputs": [],
   "source": [
    "irrelevant_columns = [\n",
    "    'Order',\n",
    "    'PID',\n",
    "    'Alley',\n",
    "    'Low Qual Fin SF',\n",
    "    'Enclosed Porch',\n",
    "    '3Ssn Porch',\n",
    "    'Pool Area',\n",
    "    'Pool QC',\n",
    "    'Misc Feature',\n",
    "    'Misc Val',\n",
    "    'Mo Sold',\n",
    "    'Utilities',\n",
    "    'Street',\n",
    "    'Heating',\n",
    "    'Land Slope',\n",
    "    'Land Contour',\n",
    "    'MS SubClass'\n",
    "]"
   ]
  },
  {
   "cell_type": "code",
   "execution_count": 4,
   "id": "5267f11a",
   "metadata": {},
   "outputs": [],
   "source": [
    "df.drop(columns=irrelevant_columns, inplace=True)"
   ]
  },
  {
   "cell_type": "code",
   "execution_count": 5,
   "id": "de184da9",
   "metadata": {},
   "outputs": [
    {
     "data": {
      "text/plain": [
       "['Fence', 'Mas Vnr Type', 'Fireplace Qu']"
      ]
     },
     "execution_count": 5,
     "metadata": {},
     "output_type": "execute_result"
    }
   ],
   "source": [
    "temp = (df.isna().sum()/len(df)*100).sort_values(ascending=False)\n",
    "nan_cols = temp[temp>40].index.tolist()\n",
    "nan_cols"
   ]
  },
  {
   "cell_type": "code",
   "execution_count": 6,
   "id": "4062b9aa",
   "metadata": {},
   "outputs": [],
   "source": [
    "df.drop(columns=nan_cols, inplace=True)"
   ]
  },
  {
   "cell_type": "code",
   "execution_count": 7,
   "id": "168c8a4a",
   "metadata": {},
   "outputs": [],
   "source": [
    "df.columns = df.columns.str.strip().str.replace(' ', '_').str.lower()"
   ]
  },
  {
   "cell_type": "code",
   "execution_count": 8,
   "id": "e1af990c",
   "metadata": {},
   "outputs": [
    {
     "data": {
      "text/plain": [
       "np.int64(0)"
      ]
     },
     "execution_count": 8,
     "metadata": {},
     "output_type": "execute_result"
    }
   ],
   "source": [
    "df.duplicated().sum()"
   ]
  },
  {
   "cell_type": "code",
   "execution_count": 9,
   "id": "e083c456",
   "metadata": {},
   "outputs": [
    {
     "name": "stdout",
     "output_type": "stream",
     "text": [
      "<class 'pandas.core.frame.DataFrame'>\n",
      "RangeIndex: 2930 entries, 0 to 2929\n",
      "Data columns (total 62 columns):\n",
      " #   Column          Non-Null Count  Dtype  \n",
      "---  ------          --------------  -----  \n",
      " 0   ms_zoning       2930 non-null   object \n",
      " 1   lot_frontage    2440 non-null   float64\n",
      " 2   lot_area        2930 non-null   int64  \n",
      " 3   lot_shape       2930 non-null   object \n",
      " 4   lot_config      2930 non-null   object \n",
      " 5   neighborhood    2930 non-null   object \n",
      " 6   condition_1     2930 non-null   object \n",
      " 7   condition_2     2930 non-null   object \n",
      " 8   bldg_type       2930 non-null   object \n",
      " 9   house_style     2930 non-null   object \n",
      " 10  overall_qual    2930 non-null   int64  \n",
      " 11  overall_cond    2930 non-null   int64  \n",
      " 12  year_built      2930 non-null   int64  \n",
      " 13  year_remod/add  2930 non-null   int64  \n",
      " 14  roof_style      2930 non-null   object \n",
      " 15  roof_matl       2930 non-null   object \n",
      " 16  exterior_1st    2930 non-null   object \n",
      " 17  exterior_2nd    2930 non-null   object \n",
      " 18  mas_vnr_area    2907 non-null   float64\n",
      " 19  exter_qual      2930 non-null   object \n",
      " 20  exter_cond      2930 non-null   object \n",
      " 21  foundation      2930 non-null   object \n",
      " 22  bsmt_qual       2850 non-null   object \n",
      " 23  bsmt_cond       2850 non-null   object \n",
      " 24  bsmt_exposure   2847 non-null   object \n",
      " 25  bsmtfin_type_1  2850 non-null   object \n",
      " 26  bsmtfin_sf_1    2929 non-null   float64\n",
      " 27  bsmtfin_type_2  2849 non-null   object \n",
      " 28  bsmtfin_sf_2    2929 non-null   float64\n",
      " 29  bsmt_unf_sf     2929 non-null   float64\n",
      " 30  total_bsmt_sf   2929 non-null   float64\n",
      " 31  heating_qc      2930 non-null   object \n",
      " 32  central_air     2930 non-null   object \n",
      " 33  electrical      2929 non-null   object \n",
      " 34  1st_flr_sf      2930 non-null   int64  \n",
      " 35  2nd_flr_sf      2930 non-null   int64  \n",
      " 36  gr_liv_area     2930 non-null   int64  \n",
      " 37  bsmt_full_bath  2928 non-null   float64\n",
      " 38  bsmt_half_bath  2928 non-null   float64\n",
      " 39  full_bath       2930 non-null   int64  \n",
      " 40  half_bath       2930 non-null   int64  \n",
      " 41  bedroom_abvgr   2930 non-null   int64  \n",
      " 42  kitchen_abvgr   2930 non-null   int64  \n",
      " 43  kitchen_qual    2930 non-null   object \n",
      " 44  totrms_abvgrd   2930 non-null   int64  \n",
      " 45  functional      2930 non-null   object \n",
      " 46  fireplaces      2930 non-null   int64  \n",
      " 47  garage_type     2773 non-null   object \n",
      " 48  garage_yr_blt   2771 non-null   float64\n",
      " 49  garage_finish   2771 non-null   object \n",
      " 50  garage_cars     2929 non-null   float64\n",
      " 51  garage_area     2929 non-null   float64\n",
      " 52  garage_qual     2771 non-null   object \n",
      " 53  garage_cond     2771 non-null   object \n",
      " 54  paved_drive     2930 non-null   object \n",
      " 55  wood_deck_sf    2930 non-null   int64  \n",
      " 56  open_porch_sf   2930 non-null   int64  \n",
      " 57  screen_porch    2930 non-null   int64  \n",
      " 58  yr_sold         2930 non-null   int64  \n",
      " 59  sale_type       2930 non-null   object \n",
      " 60  sale_condition  2930 non-null   object \n",
      " 61  saleprice       2930 non-null   int64  \n",
      "dtypes: float64(11), int64(19), object(32)\n",
      "memory usage: 1.4+ MB\n"
     ]
    }
   ],
   "source": [
    "df.info()"
   ]
  },
  {
   "cell_type": "markdown",
   "id": "85983bb2",
   "metadata": {},
   "source": [
    "### Refactor the type's of the columns"
   ]
  },
  {
   "cell_type": "code",
   "execution_count": 10,
   "id": "29c23131",
   "metadata": {},
   "outputs": [],
   "source": [
    "df[['1st_flr_sf', '2nd_flr_sf', 'gr_liv_area','wood_deck_sf', 'open_porch_sf', 'saleprice', 'lot_area']] = df[['1st_flr_sf', '2nd_flr_sf', 'gr_liv_area','wood_deck_sf', 'open_porch_sf', 'saleprice', 'lot_area']].astype('float')"
   ]
  },
  {
   "cell_type": "code",
   "execution_count": 11,
   "id": "907cb909",
   "metadata": {},
   "outputs": [],
   "source": [
    "df[['bsmt_full_bath', 'bsmt_half_bath', 'garage_cars', 'garage_yr_blt']]= df[['bsmt_full_bath', 'bsmt_half_bath', 'garage_cars', 'garage_yr_blt']].astype('Int64')"
   ]
  },
  {
   "cell_type": "code",
   "execution_count": 12,
   "id": "5bd61ca5",
   "metadata": {},
   "outputs": [],
   "source": [
    "df.to_parquet('../data/processed/02_data_cleaned.parquet', index=False)"
   ]
  }
 ],
 "metadata": {
  "kernelspec": {
   "display_name": ".venv",
   "language": "python",
   "name": "python3"
  },
  "language_info": {
   "codemirror_mode": {
    "name": "ipython",
    "version": 3
   },
   "file_extension": ".py",
   "mimetype": "text/x-python",
   "name": "python",
   "nbconvert_exporter": "python",
   "pygments_lexer": "ipython3",
   "version": "3.13.3"
  }
 },
 "nbformat": 4,
 "nbformat_minor": 5
}

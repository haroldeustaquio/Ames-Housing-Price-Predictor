{
 "cells": [
  {
   "cell_type": "markdown",
   "id": "9572f661",
   "metadata": {},
   "source": [
    "## Feature Engineering"
   ]
  },
  {
   "cell_type": "code",
   "execution_count": 1,
   "id": "8f752d56",
   "metadata": {},
   "outputs": [],
   "source": [
    "import pandas as pd"
   ]
  },
  {
   "cell_type": "markdown",
   "id": "f8fda0c4",
   "metadata": {},
   "source": [
    "### Load dataset"
   ]
  },
  {
   "cell_type": "code",
   "execution_count": 2,
   "id": "86177e90",
   "metadata": {},
   "outputs": [],
   "source": [
    "df = pd.read_parquet('../data/processed/04_outlier_handling.parquet')  # acá debemos importar los datos procesados"
   ]
  },
  {
   "cell_type": "code",
   "execution_count": null,
   "id": "d0674152",
   "metadata": {},
   "outputs": [],
   "source": [
    "df[\"total_sqft\"] = df[\"1st_flr_sf\"] + df[\"2nd_flr_sf\"] + df[\"total_bsmt_sf\"]\n",
    "df[\"living_area_ratio\"] = df[\"gr_liv_area\"] / (df[\"lot_area\"] + 1e-5)\n",
    "df[\"room_density\"] = df[\"totrms_abvgrd\"] / (df[\"gr_liv_area\"] + 1e-5)\n",
    "\n",
    "\n",
    "df[\"overall_score\"] = df[\"overall_qual\"] * df[\"overall_cond\"]\n",
    "df[\"exterior_score\"] = df[\"exter_qual\"] + df[\"exter_cond\"]\n",
    "df[\"house_age\"] = df[\"yr_sold\"] - df[\"year_built\"]\n",
    "df[\"years_since_remodel\"] = df[\"yr_sold\"] - df[\"year_remod/add\"]\n",
    "df[\"total_bathrooms\"] = (df[\"full_bath\"] + 0.5*df[\"half_bath\"] +\n",
    "                            df[\"bsmt_full_bath\"] + 0.5*df[\"bsmt_half_bath\"])\n",
    "df[\"has_fireplace\"] = (df[\"fireplaces\"] > 0).astype(int)\n",
    "df[\"total_porch_sf\"] = df[\"open_porch_sf\"] + df[\"screen_porch\"] + df[\"wood_deck_sf\"]\n",
    "df[\"popular_neighborhood\"] = df[\"neighborhood\"].isin([\"NridgHt\", \"StoneBr\", \"NoRidge\"]).astype(int)"
   ]
  },
  {
   "cell_type": "code",
   "execution_count": 4,
   "id": "b9293811",
   "metadata": {},
   "outputs": [],
   "source": [
    "columns_to_drop = [\n",
    "    \"1st_flr_sf\", \"2nd_flr_sf\", \"total_bsmt_sf\",\n",
    "    \"overall_cond\",\n",
    "    \"year_built\", \"yr_sold\",\n",
    "    \"year_remod/add\",\n",
    "    \"full_bath\", \"half_bath\", \"bsmt_half_bath\", \"bsmt_full_bath\",\n",
    "    \"lot_area\",\n",
    "    \"totrms_abvgrd\",\n",
    "    \"exter_qual\", \"exter_cond\",\n",
    "    \"open_porch_sf\", \"screen_porch\", \"wood_deck_sf\"\n",
    "]\n",
    "\n",
    "df.drop(columns=columns_to_drop, inplace=True)"
   ]
  },
  {
   "cell_type": "code",
   "execution_count": 5,
   "id": "8606328a",
   "metadata": {},
   "outputs": [],
   "source": [
    "df.to_parquet('../data/processed/05_feature_engineering.parquet', index=False)"
   ]
  }
 ],
 "metadata": {
  "kernelspec": {
   "display_name": ".venv",
   "language": "python",
   "name": "python3"
  },
  "language_info": {
   "codemirror_mode": {
    "name": "ipython",
    "version": 3
   },
   "file_extension": ".py",
   "mimetype": "text/x-python",
   "name": "python",
   "nbconvert_exporter": "python",
   "pygments_lexer": "ipython3",
   "version": "3.13.3"
  }
 },
 "nbformat": 4,
 "nbformat_minor": 5
}
